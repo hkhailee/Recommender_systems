{
 "cells": [
  {
   "cell_type": "code",
   "execution_count": 30,
   "id": "steady-contact",
   "metadata": {},
   "outputs": [],
   "source": [
    "import logging\n",
    "import lift\n",
    "from tqdm.auto import tqdm\n",
    "from scipy.sparse import csr_matrix, triu\n",
    "import numpy as np\n",
    "import pandas as pd\n",
    "\n",
    "import seaborn as sns\n",
    "import matplotlib.pyplot as plt\n",
    "import scipy.sparse as sps\n",
    "\n",
    "from lenskit import crossfold as xf\n",
    "from lenskit.datasets import MovieLens\n",
    "from lenskit import topn , batch , util\n",
    "from lenskit.algorithms import Recommender, als, basic, bias, item_knn, user_knn, svd, tf\n",
    "from lenskit.batch import predict, recommend\n",
    "\n",
    "from lenskit.metrics.predict import rmse\n",
    "from lenskit.topn import RecListAnalysis\n",
    "from lenskit.metrics.topn import ndcg\n",
    "from binpickle import dump, load\n",
    "\n",
    "from lenskit.algorithms.tf import BPR\n",
    "\n",
    "import sys, getopt"
   ]
  },
  {
   "cell_type": "markdown",
   "id": "mysterious-correlation",
   "metadata": {},
   "source": [
    "\n",
    "# Rec-visualization"
   ]
  },
  {
   "cell_type": "markdown",
   "id": "elegant-bargain",
   "metadata": {},
   "source": [
    "At the end of this, you should have two bar charts or dot plots: one showing RMSE for each\n",
    "rating prediction algorithm, and another showing mean nDCG for each of the algorithms.\n",
    "\n",
    "ONE PER ALGORITHM not one for each partition"
   ]
  },
  {
   "cell_type": "code",
   "execution_count": 69,
   "id": "sonic-zoning",
   "metadata": {},
   "outputs": [],
   "source": [
    "#recs = pd.read_csv('Trained_Models/popular.csv', low_memory=False)\n",
    "#test = pd.read_csv('test_master.csv', low_memory=False)"
   ]
  },
  {
   "cell_type": "code",
   "execution_count": 91,
   "id": "growing-participation",
   "metadata": {},
   "outputs": [
    {
     "data": {
      "text/html": [
       "<div>\n",
       "<style scoped>\n",
       "    .dataframe tbody tr th:only-of-type {\n",
       "        vertical-align: middle;\n",
       "    }\n",
       "\n",
       "    .dataframe tbody tr th {\n",
       "        vertical-align: top;\n",
       "    }\n",
       "\n",
       "    .dataframe thead th {\n",
       "        text-align: right;\n",
       "    }\n",
       "</style>\n",
       "<table border=\"1\" class=\"dataframe\">\n",
       "  <thead>\n",
       "    <tr style=\"text-align: right;\">\n",
       "      <th></th>\n",
       "      <th>alg name</th>\n",
       "      <th>ndcg</th>\n",
       "    </tr>\n",
       "  </thead>\n",
       "  <tbody>\n",
       "    <tr>\n",
       "      <th>0</th>\n",
       "      <td>popular</td>\n",
       "      <td>0.057455</td>\n",
       "    </tr>\n",
       "    <tr>\n",
       "      <th>1</th>\n",
       "      <td>bias</td>\n",
       "      <td>0.000000</td>\n",
       "    </tr>\n",
       "    <tr>\n",
       "      <th>2</th>\n",
       "      <td>bias</td>\n",
       "      <td>0.000000</td>\n",
       "    </tr>\n",
       "    <tr>\n",
       "      <th>3</th>\n",
       "      <td>popular</td>\n",
       "      <td>0.057455</td>\n",
       "    </tr>\n",
       "    <tr>\n",
       "      <th>4</th>\n",
       "      <td>bias</td>\n",
       "      <td>0.000000</td>\n",
       "    </tr>\n",
       "    <tr>\n",
       "      <th>5</th>\n",
       "      <td>user-user</td>\n",
       "      <td>0.000208</td>\n",
       "    </tr>\n",
       "    <tr>\n",
       "      <th>6</th>\n",
       "      <td>item-item</td>\n",
       "      <td>0.000734</td>\n",
       "    </tr>\n",
       "    <tr>\n",
       "      <th>7</th>\n",
       "      <td>item-item sum</td>\n",
       "      <td>0.030326</td>\n",
       "    </tr>\n",
       "    <tr>\n",
       "      <th>8</th>\n",
       "      <td>explicit mf</td>\n",
       "      <td>0.019364</td>\n",
       "    </tr>\n",
       "    <tr>\n",
       "      <th>9</th>\n",
       "      <td>svd</td>\n",
       "      <td>0.026944</td>\n",
       "    </tr>\n",
       "    <tr>\n",
       "      <th>10</th>\n",
       "      <td>implicit mf</td>\n",
       "      <td>0.089833</td>\n",
       "    </tr>\n",
       "    <tr>\n",
       "      <th>11</th>\n",
       "      <td>bpr</td>\n",
       "      <td>0.002154</td>\n",
       "    </tr>\n",
       "    <tr>\n",
       "      <th>12</th>\n",
       "      <td>lift</td>\n",
       "      <td>0.001052</td>\n",
       "    </tr>\n",
       "  </tbody>\n",
       "</table>\n",
       "</div>"
      ],
      "text/plain": [
       "         alg name      ndcg\n",
       "0         popular  0.057455\n",
       "1            bias  0.000000\n",
       "2            bias  0.000000\n",
       "3         popular  0.057455\n",
       "4            bias  0.000000\n",
       "5       user-user  0.000208\n",
       "6       item-item  0.000734\n",
       "7   item-item sum  0.030326\n",
       "8     explicit mf  0.019364\n",
       "9             svd  0.026944\n",
       "10    implicit mf  0.089833\n",
       "11            bpr  0.002154\n",
       "12           lift  0.001052"
      ]
     },
     "execution_count": 91,
     "metadata": {},
     "output_type": "execute_result"
    }
   ],
   "source": [
    "df_ndcg = pd.read_csv('ndcg.csv')\n",
    "df_rmse = pd.read_csv('rmse.csv')"
   ]
  },
  {
   "cell_type": "code",
   "execution_count": 92,
   "id": "noted-brand",
   "metadata": {},
   "outputs": [
    {
     "data": {
      "text/plain": [
       "<AxesSubplot:title={'center':'Average nDCG'}, xlabel='alg name'>"
      ]
     },
     "execution_count": 92,
     "metadata": {},
     "output_type": "execute_result"
    },
    {
     "data": {
      "image/png": "[encoded data removed]",
      "text/plain": [
       "<Figure size 432x288 with 1 Axes>"
      ]
     },
     "metadata": {
      "needs_background": "light"
     },
     "output_type": "display_data"
    }
   ],
   "source": [
    "df_ndcg.set_index('alg name').plot(kind=\"bar\", title = 'Average nDCG')"
   ]
  },
  {
   "cell_type": "code",
   "execution_count": 95,
   "id": "boxed-commander",
   "metadata": {},
   "outputs": [
    {
     "data": {
      "text/plain": [
       "<AxesSubplot:title={'center':'rmse'}, xlabel='alg name'>"
      ]
     },
     "execution_count": 95,
     "metadata": {},
     "output_type": "execute_result"
    },
    {
     "data": {
      "image/png": "[encoded data removed]",
      "text/plain": [
       "<Figure size 432x288 with 1 Axes>"
      ]
     },
     "metadata": {
      "needs_background": "light"
     },
     "output_type": "display_data"
    }
   ],
   "source": [
    "df_rmse.set_index('alg name').plot(kind=\"bar\", title = 'rmse')"
   ]
  },
  {
   "cell_type": "markdown",
   "id": "broadband-treaty",
   "metadata": {},
   "source": [
    "For item-item similarity it is saying TopN object has no attribute 'item_features_'. Also I am not fully understanding, The write up states for each alogrithm for each partition do the following. That means within each partition we create the algorithm and train it. So at the end of the training we have all of the recommendations but not an instance of the final model. Unless we do item similarity within the for loop. Which I tried and it still threw the error of no attribute item_features.\n",
    "\n",
    "For Bias MF I ran into the same issue. The odd thing is is that alg is labeled as als.BiasedMF or item_knn.ItemItem they are not TopN objects, so I am unsure where this error is actually stemming from."
   ]
  },
  {
   "cell_type": "code",
   "execution_count": null,
   "id": "classified-tomorrow",
   "metadata": {},
   "outputs": [],
   "source": []
  }
 ],
 "metadata": {
  "kernelspec": {
   "display_name": "Python 3",
   "language": "python",
   "name": "python3"
  },
  "language_info": {
   "codemirror_mode": {
    "name": "ipython",
    "version": 3
   },
   "file_extension": ".py",
   "mimetype": "text/x-python",
   "name": "python",
   "nbconvert_exporter": "python",
   "pygments_lexer": "ipython3",
   "version": "3.8.8"
  }
 },
 "nbformat": 4,
 "nbformat_minor": 5
}
