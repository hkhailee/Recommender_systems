{
 "cells": [
  {
   "cell_type": "markdown",
   "id": "heavy-helicopter",
   "metadata": {},
   "source": [
    "# Assignment 2 - Kiesecker\n",
    "\n",
    "## Setup\n",
    "\n",
    "import modules:"
   ]
  },
  {
   "cell_type": "code",
   "execution_count": 19,
   "id": "drawn-beaver",
   "metadata": {},
   "outputs": [],
   "source": [
    "import pandas as pd\n",
    "import numpy as np\n",
    "import seaborn as sns\n",
    "import matplotlib.pyplot as plt\n",
    "import scipy.sparse as sps\n",
    "\n",
    "from lenskit import crossfold as xf\n",
    "from lenskit.datasets import MovieLens\n",
    "from lenskit import topn , batch , util\n",
    "from lenskit.algorithms import Recommender, als, item_knn as knn"
   ]
  },
  {
   "cell_type": "markdown",
   "id": "lesbian-divide",
   "metadata": {},
   "source": [
    "load in the data:"
   ]
  },
  {
   "cell_type": "code",
   "execution_count": 20,
   "id": "brazilian-humanitarian",
   "metadata": {},
   "outputs": [],
   "source": [
    "m = MovieLens('ml-25m')\n",
    "ratings = m.ratings\n",
    "#ratings = ratings.drop(ratings.columns[1], axis=1, inplace = True)"
   ]
  },
  {
   "cell_type": "code",
   "execution_count": 3,
   "id": "narrow-bhutan",
   "metadata": {},
   "outputs": [],
   "source": [
    "for i, tp in enumerate(xf.partition_users(ratings, 5, xf.SampleN(5))):\n",
    "    tp.train.to_csv('ml-25m/train-%d.csv' % (i,))\n",
    "    tp.train.to_parquet('ml-25m/train-%d.parquet' % (i,))\n",
    "    tp.test.to_csv('ml-25m/test-%d.csv' % (i,))\n",
    "    tp.test.to_parquet('ml-25m/test-%d.parquet' % (i,))"
   ]
  },
  {
   "cell_type": "markdown",
   "id": "minimal-apple",
   "metadata": {},
   "source": [
    "Implementation of this part took 2 hours mainly because of environement issues"
   ]
  },
  {
   "cell_type": "markdown",
   "id": "north-columbus",
   "metadata": {},
   "source": [
    "ratings = pd.read_csv('ml-latest-small/ratings.csv')\n",
    "ratings = ratings.rename(columns={'userId': 'user', 'movieId': 'item'})\n",
    "\n",
    "for i, tp in enumerate(xf.partition_users(ratings, 5, xf.SampleN(5))):\n",
    "    tp.train.to_csv('ml-latest-small/train-%d.csv' % (i,))\n",
    "    tp.train.to_parquet('ml-latest-small/train-%d.parquet' % (i,))\n",
    "    tp.test.to_csv('ml-latest-small/test-%d.csv' % (i,))\n",
    "    tp.test.to_parquet('ml-latest-small/test-%d.parquet' % (i,))"
   ]
  },
  {
   "cell_type": "code",
   "execution_count": 58,
   "id": "focal-treatment",
   "metadata": {},
   "outputs": [],
   "source": [
    "## creation of all test data for NDCG metric\n",
    "\n",
    "test0 ='ml-25m/test-0.csv'\n",
    "test1 ='ml-25m/test-1.csv'\n",
    "test2 ='ml-25m/test-2.csv'\n",
    "test3 ='ml-25m/test-3.csv'\n",
    "test4 ='ml-25m/test-4.csv'\n",
    "\n",
    "total_list = [test0, test1, test2, test3, test4]\n",
    "\n",
    "#combine all files in the list\n",
    "test_master = pd.concat([pd.read_csv(f) for f in total_list ], ignore_index = True)\n",
    "#export to csv\n",
    "test_master = test_master.drop(test_master.columns[0], axis=1)\n",
    "test_master.to_csv( \"test_master.csv\", index =False)\n",
    "\n"
   ]
  },
  {
   "cell_type": "code",
   "execution_count": 67,
   "id": "standing-helmet",
   "metadata": {},
   "outputs": [],
   "source": [
    "# dataframe to hold all NDCG values means\n",
    "\n",
    "ndcg = pd.DataFrame(columns = ['alg name', 'ndcg'])\n",
    "ndcg.to_csv('ndcg.csv', index = False)\n",
    "\n",
    "rmse = pd.DataFrame(columns = ['alg name', 'rmse'])\n",
    "rmse.to_csv('rmse.csv', index = False)"
   ]
  },
  {
   "cell_type": "code",
   "execution_count": null,
   "id": "grateful-excess",
   "metadata": {},
   "outputs": [],
   "source": []
  }
 ],
 "metadata": {
  "kernelspec": {
   "display_name": "Python 3",
   "language": "python",
   "name": "python3"
  },
  "language_info": {
   "codemirror_mode": {
    "name": "ipython",
    "version": 3
   },
   "file_extension": ".py",
   "mimetype": "text/x-python",
   "name": "python",
   "nbconvert_exporter": "python",
   "pygments_lexer": "ipython3",
   "version": "3.8.8"
  }
 },
 "nbformat": 4,
 "nbformat_minor": 5
}
